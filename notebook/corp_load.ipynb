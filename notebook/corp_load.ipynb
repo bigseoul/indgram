{
 "cells": [
  {
   "cell_type": "code",
   "execution_count": 1,
   "id": "52b977a4",
   "metadata": {},
   "outputs": [
    {
     "name": "stderr",
     "output_type": "stream",
     "text": [
      "Error occurred during getting browser(s): random, but was suppressed with fallback.\n"
     ]
    },
    {
     "name": "stdout",
     "output_type": "stream",
     "text": [
      "                                   \r"
     ]
    }
   ],
   "source": [
    "import dart_fss as dart\n",
    "\n",
    "api_key = '888e4aca3aba61a62811ba87e0fc054e2d9f6ea0'\n",
    "dart.set_api_key(api_key=api_key)\n",
    "\n",
    "# 회사 리스트 조회\n",
    "corp_list = dart.get_corp_list()\n",
    "\n"
   ]
  },
  {
   "cell_type": "code",
   "execution_count": 6,
   "id": "71eef6c6",
   "metadata": {},
   "outputs": [
    {
     "name": "stdout",
     "output_type": "stream",
     "text": [
      "기본 정보 - 회사명: 삼성전자(주), 코드: 00126380\n",
      "\n",
      "=== 상세 회사 정보2 ===\n",
      "고유번호         (corp_code      ): 00126380\n",
      "정식명칭         (corp_name      ): 삼성전자(주)\n",
      "영문명칭         (corp_name_eng  ): SAMSUNG ELECTRONICS CO,.LTD\n",
      "종목코드         (stock_code     ): 005930\n",
      "최종수정일        (modify_date    ): 20250326\n",
      "종목명          (stock_name     ): 삼성전자\n",
      "대표자명         (ceo_nm         ): 전영현\n",
      "법인구분         (corp_cls       ): Y\n",
      "법인등록번호       (jurir_no       ): 1301110006246\n",
      "사업자등록번호      (bizr_no        ): 1248100998\n",
      "주소           (adres          ): 경기도 수원시 영통구  삼성로 129 (매탄동)\n",
      "홈페이지         (hm_url         ): www.samsung.com/sec\n",
      "IR홈페이지       (ir_url         ): \n",
      "전화번호         (phn_no         ): 02-2255-0114\n",
      "팩스번호         (fax_no         ): 031-200-7538\n",
      "업종코드         (induty_code    ): 264\n",
      "설립일          (est_dt         ): 19690113\n",
      "결산월          (acc_mt         ): 12\n",
      "\n",
      "전체 딕셔너리 키: ['corp_code', 'corp_name', 'corp_eng_name', 'stock_code', 'modify_date', 'sector', 'market_type', 'product', 'corp_cls', 'corp_name_eng', 'stock_name', 'ceo_nm', 'jurir_no', 'bizr_no', 'adres', 'hm_url', 'ir_url', 'phn_no', 'fax_no', 'induty_code', 'est_dt', 'acc_mt']\n"
     ]
    }
   ],
   "source": [
    "# 삼성전자 상세 정보 조회\n",
    "samsung = corp_list.find_by_corp_code('00126380')\n",
    "print(f\"기본 정보 - 회사명: {samsung.corp_name}, 코드: {samsung.corp_code}\")\n",
    "\n",
    "# # 상세 정보 로드 (API 호출)\n",
    "# print(\"\\n상세 정보 로딩 중...\")\n",
    "# samsung.load()\n",
    "\n",
    "# 모든 상세 정보 출력\n",
    "print(\"\\n=== 상세 회사 정보2 ===\")\n",
    "corp_dict = samsung.to_dict()\n",
    "\n",
    "# 요청하신 필드들 출력\n",
    "fields_mapping = {\n",
    "    'corp_code': '고유번호',\n",
    "    'corp_name': '정식명칭', \n",
    "    'corp_name_eng': '영문명칭',\n",
    "    'stock_code': '종목코드',\n",
    "    'modify_date': '최종수정일',\n",
    "    'stock_name': '종목명',\n",
    "    'ceo_nm': '대표자명',\n",
    "    'corp_cls': '법인구분',\n",
    "    'jurir_no': '법인등록번호',\n",
    "    'bizr_no': '사업자등록번호',\n",
    "    'adres': '주소',\n",
    "    'hm_url': '홈페이지',\n",
    "    'ir_url': 'IR홈페이지',\n",
    "    'phn_no': '전화번호',\n",
    "    'fax_no': '팩스번호',\n",
    "    'induty_code': '업종코드',\n",
    "    'est_dt': '설립일',\n",
    "    'acc_mt': '결산월'\n",
    "}\n",
    "\n",
    "for field, desc in fields_mapping.items():\n",
    "    value = getattr(samsung, field, 'N/A')\n",
    "    print(f\"{desc:12} ({field:15}): {value}\")\n",
    "\n",
    "print(f\"\\n전체 딕셔너리 키: {list(corp_dict.keys())}\")\n"
   ]
  }
 ],
 "metadata": {
  "kernelspec": {
   "display_name": ".venv",
   "language": "python",
   "name": "python3"
  },
  "language_info": {
   "codemirror_mode": {
    "name": "ipython",
    "version": 3
   },
   "file_extension": ".py",
   "mimetype": "text/x-python",
   "name": "python",
   "nbconvert_exporter": "python",
   "pygments_lexer": "ipython3",
   "version": "3.13.2"
  }
 },
 "nbformat": 4,
 "nbformat_minor": 5
}
