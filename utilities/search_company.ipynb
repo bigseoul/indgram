{
 "cells": [
  {
   "cell_type": "code",
   "execution_count": 2,
   "id": "afb5c831",
   "metadata": {},
   "outputs": [],
   "source": [
    "import OpenDartReader\n",
    "import pandas as pd\n",
    "\n",
    "\n",
    "api_key = '82f7e55fddad2d097811929b56b5eaf6716825a3'\n",
    "\n",
    "dart = OpenDartReader(api_key)"
   ]
  },
  {
   "cell_type": "code",
   "execution_count": 10,
   "id": "fec31579",
   "metadata": {},
   "outputs": [
    {
     "data": {
      "text/plain": [
       "[{'status': '000',\n",
       "  'message': '정상',\n",
       "  'corp_code': '00131018',\n",
       "  'corp_name': '(주)서울제약',\n",
       "  'corp_name_eng': 'SEOUL PHARMA CO.,LTD',\n",
       "  'stock_name': '서울제약',\n",
       "  'stock_code': '018680',\n",
       "  'ceo_nm': '윤동현, 신봉환 (각자대표)',\n",
       "  'corp_cls': 'K',\n",
       "  'jurir_no': '1301110008721',\n",
       "  'bizr_no': '1338130405',\n",
       "  'adres': '충청북도 청주시 흥덕구 오송읍 오송생명6로 124-31 서울제약 오송공장',\n",
       "  'hm_url': 'www.seoulpharma.com',\n",
       "  'ir_url': '',\n",
       "  'phn_no': '02-3470-2300',\n",
       "  'fax_no': '0234702395',\n",
       "  'induty_code': '212',\n",
       "  'est_dt': '19851223',\n",
       "  'acc_mt': '12'}]"
      ]
     },
     "execution_count": 10,
     "metadata": {},
     "output_type": "execute_result"
    }
   ],
   "source": [
    "corp = '서울제약'\n",
    "# dart.find_corp_code('131018')\n",
    "dart.company_by_name(corp)\n"
   ]
  }
 ],
 "metadata": {
  "kernelspec": {
   "display_name": "data_proj_env",
   "language": "python",
   "name": "python3"
  },
  "language_info": {
   "codemirror_mode": {
    "name": "ipython",
    "version": 3
   },
   "file_extension": ".py",
   "mimetype": "text/x-python",
   "name": "python",
   "nbconvert_exporter": "python",
   "pygments_lexer": "ipython3",
   "version": "3.13.2"
  }
 },
 "nbformat": 4,
 "nbformat_minor": 5
}
