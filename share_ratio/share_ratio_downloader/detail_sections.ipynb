{
 "cells": [
  {
   "cell_type": "markdown",
   "metadata": {},
   "source": [
    "객체 생성   "
   ]
  },
  {
   "cell_type": "code",
   "execution_count": 6,
   "metadata": {},
   "outputs": [],
   "source": [
    "import OpenDartReader\n",
    "import pandas as pd\n",
    "\n",
    "\n",
    "api_key = '888e4aca3aba61a62811ba87e0fc054e2d9f6ea0'\n",
    "\n",
    "dart = OpenDartReader(api_key)"
   ]
  },
  {
   "cell_type": "code",
   "execution_count": 11,
   "metadata": {},
   "outputs": [
    {
     "data": {
      "text/html": [
       "<div>\n",
       "<style scoped>\n",
       "    .dataframe tbody tr th:only-of-type {\n",
       "        vertical-align: middle;\n",
       "    }\n",
       "\n",
       "    .dataframe tbody tr th {\n",
       "        vertical-align: top;\n",
       "    }\n",
       "\n",
       "    .dataframe thead th {\n",
       "        text-align: right;\n",
       "    }\n",
       "</style>\n",
       "<table border=\"1\" class=\"dataframe\">\n",
       "  <thead>\n",
       "    <tr style=\"text-align: right;\">\n",
       "      <th></th>\n",
       "      <th>corp_code</th>\n",
       "      <th>corp_name</th>\n",
       "      <th>stock_code</th>\n",
       "      <th>corp_cls</th>\n",
       "      <th>report_nm</th>\n",
       "      <th>rcept_no</th>\n",
       "      <th>flr_nm</th>\n",
       "      <th>rcept_dt</th>\n",
       "      <th>rm</th>\n",
       "    </tr>\n",
       "  </thead>\n",
       "  <tbody>\n",
       "    <tr>\n",
       "      <th>0</th>\n",
       "      <td>00346407</td>\n",
       "      <td>크레오에스지</td>\n",
       "      <td>040350</td>\n",
       "      <td>K</td>\n",
       "      <td>반기보고서 (2025.06)</td>\n",
       "      <td>20250814002691</td>\n",
       "      <td>크레오에스지</td>\n",
       "      <td>20250814</td>\n",
       "      <td></td>\n",
       "    </tr>\n",
       "    <tr>\n",
       "      <th>1</th>\n",
       "      <td>00346407</td>\n",
       "      <td>크레오에스지</td>\n",
       "      <td>040350</td>\n",
       "      <td>K</td>\n",
       "      <td>[기재정정]사업보고서 (2024.12)</td>\n",
       "      <td>20250714000206</td>\n",
       "      <td>크레오에스지</td>\n",
       "      <td>20250714</td>\n",
       "      <td>연</td>\n",
       "    </tr>\n",
       "    <tr>\n",
       "      <th>2</th>\n",
       "      <td>00346407</td>\n",
       "      <td>크레오에스지</td>\n",
       "      <td>040350</td>\n",
       "      <td>K</td>\n",
       "      <td>분기보고서 (2025.03)</td>\n",
       "      <td>20250515001307</td>\n",
       "      <td>크레오에스지</td>\n",
       "      <td>20250515</td>\n",
       "      <td></td>\n",
       "    </tr>\n",
       "  </tbody>\n",
       "</table>\n",
       "</div>"
      ],
      "text/plain": [
       "  corp_code corp_name stock_code corp_cls              report_nm  \\\n",
       "0  00346407    크레오에스지     040350        K        반기보고서 (2025.06)   \n",
       "1  00346407    크레오에스지     040350        K  [기재정정]사업보고서 (2024.12)   \n",
       "2  00346407    크레오에스지     040350        K        분기보고서 (2025.03)   \n",
       "\n",
       "         rcept_no  flr_nm  rcept_dt rm  \n",
       "0  20250814002691  크레오에스지  20250814     \n",
       "1  20250714000206  크레오에스지  20250714  연  \n",
       "2  20250515001307  크레오에스지  20250515     "
      ]
     },
     "execution_count": 11,
     "metadata": {},
     "output_type": "execute_result"
    }
   ],
   "source": [
    "dart.list('크레오에스지', start='2025-01-01', kind='A')\n"
   ]
  },
  {
   "cell_type": "code",
   "execution_count": null,
   "metadata": {},
   "outputs": [
    {
     "data": {
      "text/html": [
       "<div>\n",
       "<style scoped>\n",
       "    .dataframe tbody tr th:only-of-type {\n",
       "        vertical-align: middle;\n",
       "    }\n",
       "\n",
       "    .dataframe tbody tr th {\n",
       "        vertical-align: top;\n",
       "    }\n",
       "\n",
       "    .dataframe thead th {\n",
       "        text-align: right;\n",
       "    }\n",
       "</style>\n",
       "<table border=\"1\" class=\"dataframe\">\n",
       "  <thead>\n",
       "    <tr style=\"text-align: right;\">\n",
       "      <th></th>\n",
       "      <th>title</th>\n",
       "      <th>url</th>\n",
       "    </tr>\n",
       "  </thead>\n",
       "  <tbody>\n",
       "    <tr>\n",
       "      <th>44</th>\n",
       "      <td>XII. 상세표</td>\n",
       "      <td>http://dart.fss.or.kr/report/viewer.do?rcpNo=2...</td>\n",
       "    </tr>\n",
       "    <tr>\n",
       "      <th>45</th>\n",
       "      <td>1. 연결대상 종속회사 현황(상세)</td>\n",
       "      <td>http://dart.fss.or.kr/report/viewer.do?rcpNo=2...</td>\n",
       "    </tr>\n",
       "    <tr>\n",
       "      <th>46</th>\n",
       "      <td>2. 계열회사 현황(상세)</td>\n",
       "      <td>http://dart.fss.or.kr/report/viewer.do?rcpNo=2...</td>\n",
       "    </tr>\n",
       "    <tr>\n",
       "      <th>47</th>\n",
       "      <td>3. 타법인출자 현황(상세)</td>\n",
       "      <td>http://dart.fss.or.kr/report/viewer.do?rcpNo=2...</td>\n",
       "    </tr>\n",
       "  </tbody>\n",
       "</table>\n",
       "</div>"
      ],
      "text/plain": [
       "                  title                                                url\n",
       "44             XII. 상세표  http://dart.fss.or.kr/report/viewer.do?rcpNo=2...\n",
       "45  1. 연결대상 종속회사 현황(상세)  http://dart.fss.or.kr/report/viewer.do?rcpNo=2...\n",
       "46       2. 계열회사 현황(상세)  http://dart.fss.or.kr/report/viewer.do?rcpNo=2...\n",
       "47      3. 타법인출자 현황(상세)  http://dart.fss.or.kr/report/viewer.do?rcpNo=2..."
      ]
     },
     "execution_count": 18,
     "metadata": {},
     "output_type": "execute_result"
    }
   ],
   "source": [
    "rcept_no = '20250814002691'\n",
    "dart.sub_docs(rcept_no)\n",
    "sub_docs = dart.sub_docs(rcept_no)\n",
    "detail_sections = sub_docs[sub_docs['title'].str.contains('상세')]\n",
    "\n"
   ]
  },
  {
   "cell_type": "markdown",
   "metadata": {},
   "source": []
  },
  {
   "cell_type": "code",
   "execution_count": 19,
   "metadata": {},
   "outputs": [
    {
     "name": "stdout",
     "output_type": "stream",
     "text": [
      "XII. 상세표\n",
      "http://dart.fss.or.kr/report/viewer.do?rcpNo=20250814002691&dcmNo=10768767&eleId=55&offset=1856368&length=43924&dtd=dart4.xsd\n",
      "1. 연결대상 종속회사 현황(상세)\n",
      "http://dart.fss.or.kr/report/viewer.do?rcpNo=20250814002691&dcmNo=10768767&eleId=56&offset=1856521&length=4904&dtd=dart4.xsd\n",
      "2. 계열회사 현황(상세)\n",
      "http://dart.fss.or.kr/report/viewer.do?rcpNo=20250814002691&dcmNo=10768767&eleId=57&offset=1861429&length=14854&dtd=dart4.xsd\n",
      "3. 타법인출자 현황(상세)\n",
      "http://dart.fss.or.kr/report/viewer.do?rcpNo=20250814002691&dcmNo=10768767&eleId=58&offset=1876287&length=23991&dtd=dart4.xsd\n"
     ]
    }
   ],
   "source": [
    "for ix, row in detail_sections.iterrows():\n",
    "    print(row['title'])\n",
    "    print(row['url'])"
   ]
  },
  {
   "cell_type": "code",
   "execution_count": null,
   "metadata": {},
   "outputs": [],
   "source": []
  }
 ],
 "metadata": {
  "kernelspec": {
   "display_name": "data_proj_env",
   "language": "python",
   "name": "python3"
  },
  "language_info": {
   "codemirror_mode": {
    "name": "ipython",
    "version": 3
   },
   "file_extension": ".py",
   "mimetype": "text/x-python",
   "name": "python",
   "nbconvert_exporter": "python",
   "pygments_lexer": "ipython3",
   "version": "3.13.2"
  }
 },
 "nbformat": 4,
 "nbformat_minor": 2
}
